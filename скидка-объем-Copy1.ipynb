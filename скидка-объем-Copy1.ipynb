{
 "cells": [
  {
   "cell_type": "markdown",
   "id": "8112be0a",
   "metadata": {},
   "source": [
    "# Модели прогнозрования объемов sell in в период промо в зависимости от скидки, продолжительности промо, и клиента"
   ]
  },
  {
   "cell_type": "markdown",
   "id": "21bbf4d0",
   "metadata": {},
   "source": [
    "суть идеи заключается в том, чтобы понять при какой продолжительности промо и размере скидки клиеты берут больше, чтобы не давать лишнего без должного аплифта. \n",
    "\n",
    "факторы укрупнила в категориальные переменные где возможно, т.к. мало данных и чтобы нагляднее было. клиентов объединила в группы на основе\n",
    "\n",
    "прогнозировала по brand family "
   ]
  },
  {
   "cell_type": "markdown",
   "id": "13e3a964",
   "metadata": {},
   "source": [
    "### Оглавление <a class=\"anchor\" id=\"begin\"></a>\n",
    "\n",
    "* [Подготовка данных](#data)\n",
    "* [SVC](#1)\n",
    "* [DecisionTreeRegressor](#2)\n",
    "* [KNeighborsRegressor](#3)\n",
    "* [RandomForestRegressor](#4)\n",
    "* [GradientBoostingRegressor](#5)\n",
    "* [линейная регрессия](#5.5)\n",
    "* [Прогнозные значения по всем моделям](#6)\n",
    "* [Heatmaps прогнозов](#7)\n",
    "* [проверка гипотез о равенстве среднего объема при разных скидках](#8)"
   ]
  },
  {
   "cell_type": "code",
   "execution_count": 1,
   "id": "4ffc3b1a",
   "metadata": {},
   "outputs": [],
   "source": [
    "import pandas as pd\n",
    "import datetime\n",
    "import seaborn as sns\n",
    "import matplotlib.pyplot as plt\n",
    "import numpy as np\n",
    "from sklearn.model_selection import train_test_split\n",
    "from sklearn.svm import SVC, SVR\n",
    "import warnings\n",
    "warnings.filterwarnings(\"ignore\")\n",
    "from sklearn.model_selection import GridSearchCV\n",
    "from sklearn.linear_model import SGDRegressor\n",
    "from sklearn.metrics import mean_absolute_error, mean_squared_error, r2_score\n",
    "from sklearn.neighbors import KNeighborsRegressor\n",
    "from sklearn.ensemble import RandomForestRegressor, GradientBoostingRegressor\n",
    "from sklearn.metrics import roc_auc_score\n",
    "from sklearn.tree import DecisionTreeRegressor\n",
    "from sklearn.preprocessing import MinMaxScaler\n",
    "from sklearn.linear_model import Ridge, LinearRegression\n",
    "from sklearn.preprocessing import StandardScaler, PolynomialFeatures\n",
    "from scipy import stats as st"
   ]
  },
  {
   "cell_type": "markdown",
   "id": "6a20a4d3",
   "metadata": {},
   "source": [
    "### Подготовка данных <a class=\"anchor\" id=\"data\"></a>"
   ]
  },
  {
   "cell_type": "code",
   "execution_count": 2,
   "id": "4cba422a",
   "metadata": {},
   "outputs": [],
   "source": [
    "df=pd.read_excel('promo1.xlsx', usecols=['Channel', 'Plan Accounts', 'Deal Start (Mars calendar)', \n",
    "                                        'Deal End (Mars calendar)','Deal date start', 'RU Category',\n",
    "                                        'Deal date end', 'ZREP', 'Discount of NRV %', \n",
    "                                         'plan_Total VOD, CS','fact_Total VOD, CS'])\n",
    "prod=pd.read_excel('Products.xlsx', usecols=['*DmdUnit', 'Brand Family', 'Brand'])"
   ]
  },
  {
   "cell_type": "code",
   "execution_count": 3,
   "id": "9993592b",
   "metadata": {},
   "outputs": [],
   "source": [
    "prod['*DmdUnit']=prod['*DmdUnit'].str.split('_').str[0].astype('int64')\n",
    "df=df.merge(prod, left_on='ZREP', right_on='*DmdUnit', how='left')\n",
    "df=df.drop(columns='*DmdUnit')\n",
    "\n",
    "df=df.rename(columns={'Discount of NRV %':'discount',\n",
    "                      'RU Category':'brand_family',\n",
    "                      'Deal Start (Mars calendar)':'start_period',\n",
    "                      'Deal End (Mars calendar)':'end_period',\n",
    "                      'plan_Total VOD, CS':'plan',\n",
    "                      'fact_Total VOD, CS':'fact'}) "
   ]
  },
  {
   "cell_type": "code",
   "execution_count": 4,
   "id": "336e3625",
   "metadata": {
    "scrolled": false
   },
   "outputs": [
    {
     "data": {
      "text/html": [
       "<div>\n",
       "<style scoped>\n",
       "    .dataframe tbody tr th:only-of-type {\n",
       "        vertical-align: middle;\n",
       "    }\n",
       "\n",
       "    .dataframe tbody tr th {\n",
       "        vertical-align: top;\n",
       "    }\n",
       "\n",
       "    .dataframe thead th {\n",
       "        text-align: right;\n",
       "    }\n",
       "</style>\n",
       "<table border=\"1\" class=\"dataframe\">\n",
       "  <thead>\n",
       "    <tr style=\"text-align: right;\">\n",
       "      <th></th>\n",
       "      <th>Channel</th>\n",
       "      <th>Plan Accounts</th>\n",
       "      <th>Deal date start</th>\n",
       "      <th>start_period</th>\n",
       "      <th>Deal date end</th>\n",
       "      <th>end_period</th>\n",
       "      <th>brand_family</th>\n",
       "      <th>ZREP</th>\n",
       "      <th>discount</th>\n",
       "      <th>plan</th>\n",
       "      <th>fact</th>\n",
       "      <th>Brand Family</th>\n",
       "      <th>Brand</th>\n",
       "    </tr>\n",
       "  </thead>\n",
       "  <tbody>\n",
       "    <tr>\n",
       "      <th>38802</th>\n",
       "      <td>National</td>\n",
       "      <td>Lenta</td>\n",
       "      <td>2020-08-13</td>\n",
       "      <td>2020P9W1</td>\n",
       "      <td>2020-09-09</td>\n",
       "      <td>2020P10W1</td>\n",
       "      <td>FC minis</td>\n",
       "      <td>320350</td>\n",
       "      <td>15</td>\n",
       "      <td>4062</td>\n",
       "      <td>4039.0</td>\n",
       "      <td>FC minis</td>\n",
       "      <td>MILKY WAY</td>\n",
       "    </tr>\n",
       "  </tbody>\n",
       "</table>\n",
       "</div>"
      ],
      "text/plain": [
       "        Channel Plan Accounts Deal date start start_period Deal date end  \\\n",
       "38802  National         Lenta      2020-08-13     2020P9W1    2020-09-09   \n",
       "\n",
       "      end_period brand_family    ZREP  discount  plan    fact Brand Family  \\\n",
       "38802  2020P10W1     FC minis  320350        15  4062  4039.0     FC minis   \n",
       "\n",
       "           Brand  \n",
       "38802  MILKY WAY  "
      ]
     },
     "metadata": {},
     "output_type": "display_data"
    }
   ],
   "source": [
    "df['discount']=df['discount'].astype('int32')\n",
    "df['Deal date start']=pd.to_datetime(df['Deal date start'], format=\"%Y%m%d\")\n",
    "df['Deal date end']=pd.to_datetime(df['Deal date end'], format=\"%Y%m%d\")\n",
    "\n",
    "# отфильтруем промо будующих периодов\n",
    "df=df[df['Deal date end']<datetime.datetime.now()]\n",
    "\n",
    "# DUMMY account for Template\n",
    "df=df[df['Plan Accounts']!='DUMMY account for Template']\n",
    "\n",
    "display(df.sample(1))\n",
    "#df.info()"
   ]
  },
  {
   "cell_type": "markdown",
   "id": "eafebb8c",
   "metadata": {},
   "source": [
    "есть 5 строк со скидками больше 1000, возможно баг в системе, и запятая поставилась не там. разделим на 100, тогда они будут в интервале допустимых значений"
   ]
  },
  {
   "cell_type": "code",
   "execution_count": 5,
   "id": "4a86f268",
   "metadata": {},
   "outputs": [],
   "source": [
    "#скидки больше 100 делим на 100\n",
    "df['discount']=np.where(df['discount']>100, df['discount']/100, df['discount'])"
   ]
  },
  {
   "cell_type": "markdown",
   "id": "69278cf5",
   "metadata": {},
   "source": [
    "**расчет вспомагательных столбцов**\n",
    "\n",
    "посчитаем сколько кейсов было продано за день промо, чтобы минимизировать влияние продолжительности промо, т.к. сильный разброс, и очевидно ожидать больших объемов на длительных промо"
   ]
  },
  {
   "cell_type": "code",
   "execution_count": 6,
   "id": "4119ee0f",
   "metadata": {},
   "outputs": [],
   "source": [
    "# продалжительность промо\n",
    "df['duration']=df['Deal date end']-df['Deal date start']\n",
    "df['duration']=pd.to_numeric(df['duration'].dt.days, downcast='integer')\n",
    "df['duration']=df['duration']+1\n",
    "\n",
    "# кейс/день\n",
    "df['cs_per_day']=round(df['fact']/df['duration'], 2)\n",
    "\n",
    "# столбец с номером периода для учета сезонности\n",
    "df['period']=df['start_period'].str.split('P', 1).str[1]\n",
    "df['period']=df['period'].str.split('W', 1).str[0]\n",
    "df['period']=df['period'].astype('int8')"
   ]
  },
  {
   "cell_type": "code",
   "execution_count": 7,
   "id": "da9bb521",
   "metadata": {},
   "outputs": [],
   "source": [
    "df['log_cs']=np.log(df['cs_per_day'])"
   ]
  },
  {
   "cell_type": "markdown",
   "id": "105b6291",
   "metadata": {},
   "source": [
    "**проверка на выбросы**"
   ]
  },
  {
   "cell_type": "code",
   "execution_count": 8,
   "id": "8975a8b7",
   "metadata": {},
   "outputs": [
    {
     "data": {
      "text/plain": [
       "array(['Boxes', 'Tablets', 'Gifting', 'FC multipack',\n",
       "       'Choco Bite size TH', 'FC minis', 'Loose', 'Gum OTC', 'Gum XXL',\n",
       "       'Other Gum', 'CNF Bite size TH', 'Impulse Bars', 'Gum MP',\n",
       "       'Choco Bite size Other', 'CNF Bite size impulse', 'Gum Bottle',\n",
       "       'Other CNF', 'Other Choco', 'Choco Bite size impulse', 'Gum Bag',\n",
       "       'Missing', 'Ice-cream'], dtype=object)"
      ]
     },
     "execution_count": 8,
     "metadata": {},
     "output_type": "execute_result"
    }
   ],
   "source": [
    "df['brand_family'].unique()"
   ]
  },
  {
   "cell_type": "markdown",
   "id": "2d618e1a",
   "metadata": {},
   "source": [
    "можно выбрать brand family из списка выше"
   ]
  },
  {
   "cell_type": "code",
   "execution_count": 9,
   "id": "c32ac25f",
   "metadata": {
    "scrolled": true
   },
   "outputs": [
    {
     "data": {
      "image/png": "[encoded data removed]",
      "text/plain": [
       "<Figure size 1152x360 with 1 Axes>"
      ]
     },
     "metadata": {
      "needs_background": "light"
     },
     "output_type": "display_data"
    }
   ],
   "source": [
    "bf='FC multipack'\n",
    "df=df[df['brand_family']==bf]\n",
    "\n",
    "      \n",
    "plt.figure(figsize=(16, 5))\n",
    "sns.scatterplot(x=df['discount'], y=df['cs_per_day'],  alpha=.75)\n",
    "None"
   ]
  },
  {
   "cell_type": "markdown",
   "id": "004dd775",
   "metadata": {},
   "source": [
    "выбросы есть, удалим их"
   ]
  },
  {
   "cell_type": "code",
   "execution_count": 10,
   "id": "93874fa9",
   "metadata": {},
   "outputs": [
    {
     "name": "stdout",
     "output_type": "stream",
     "text": [
      "cs_per_day 99.8% percentile = 804.4588799999964, \n",
      "удалим все объемы, которые больше него\n"
     ]
    }
   ],
   "source": [
    "percent=np.percentile(df['cs_per_day'], 99.8) \n",
    "print(f'cs_per_day 99.8% percentile = {percent}, \\nудалим все объемы, которые больше него')\n",
    "\n",
    "df=df[df['cs_per_day']<percent]"
   ]
  },
  {
   "cell_type": "markdown",
   "id": "770b4b1f",
   "metadata": {},
   "source": [
    "**перевод в категориальные переменные**\n",
    "\n",
    "Размер скидки\n",
    "- 1-5% = 5\n",
    "- 6-10% = 10\n",
    "- 11-15% = 15 и т.д.\n",
    "\n",
    "продолжительность промо\n",
    "- до 7 дней = 1\n",
    "- 8-14 = 2\n",
    "- 15-21 = 3 и т.д. в полных неделях, окугляя в большую сторону\n",
    "\n",
    "группа клиентов по медианному заказу\n",
    "- до 50% клиентов с минимальными медианными заказами = 4 \n",
    "- 50%-75% = 3\n",
    "- 75%-90% = 2\n",
    "- 90%-100% = 1"
   ]
  },
  {
   "cell_type": "code",
   "execution_count": 11,
   "id": "ebf1945b",
   "metadata": {},
   "outputs": [],
   "source": [
    "# дни в недели\n",
    "df['duration_weeks']=(df['duration']/7).apply(np.ceil)\n",
    "df['duration_weeks']=df['duration_weeks'].astype('int16')\n",
    "\n",
    "# размер скидки\n",
    "df['discount_cathegory']=df['discount']\n",
    "df['discount_cathegory']=round(df['discount_cathegory'], 0).astype('int16')\n",
    "\n",
    "def cathegory(col, discount):\n",
    "    df.loc[(df[col]>discount[0])&(df[col]<=discount[1]), col]=discount[2]\n",
    "\n",
    "def discount(a):\n",
    "    return(a, a+5, a+5)\n",
    "\n",
    "for i in range(0, 95, 5):\n",
    "    cathegory('discount_cathegory', discount(i))"
   ]
  },
  {
   "cell_type": "code",
   "execution_count": 12,
   "id": "0eb6bea8",
   "metadata": {
    "scrolled": false
   },
   "outputs": [
    {
     "data": {
      "text/html": [
       "<div>\n",
       "<style scoped>\n",
       "    .dataframe tbody tr th:only-of-type {\n",
       "        vertical-align: middle;\n",
       "    }\n",
       "\n",
       "    .dataframe tbody tr th {\n",
       "        vertical-align: top;\n",
       "    }\n",
       "\n",
       "    .dataframe thead th {\n",
       "        text-align: right;\n",
       "    }\n",
       "</style>\n",
       "<table border=\"1\" class=\"dataframe\">\n",
       "  <thead>\n",
       "    <tr style=\"text-align: right;\">\n",
       "      <th></th>\n",
       "      <th>Plan Accounts</th>\n",
       "      <th>cs_per_day</th>\n",
       "      <th>client_caths</th>\n",
       "    </tr>\n",
       "  </thead>\n",
       "  <tbody>\n",
       "    <tr>\n",
       "      <th>12</th>\n",
       "      <td>Monetka Ural</td>\n",
       "      <td>240.000</td>\n",
       "      <td>1</td>\n",
       "    </tr>\n",
       "    <tr>\n",
       "      <th>0</th>\n",
       "      <td>5Pyaterochka (X5)</td>\n",
       "      <td>200.990</td>\n",
       "      <td>1</td>\n",
       "    </tr>\n",
       "    <tr>\n",
       "      <th>15</th>\n",
       "      <td>Red &amp; White</td>\n",
       "      <td>158.800</td>\n",
       "      <td>2</td>\n",
       "    </tr>\n",
       "    <tr>\n",
       "      <th>8</th>\n",
       "      <td>Magnit</td>\n",
       "      <td>54.000</td>\n",
       "      <td>2</td>\n",
       "    </tr>\n",
       "    <tr>\n",
       "      <th>1</th>\n",
       "      <td>Auchan Group</td>\n",
       "      <td>40.460</td>\n",
       "      <td>2</td>\n",
       "    </tr>\n",
       "    <tr>\n",
       "      <th>14</th>\n",
       "      <td>Perekrestok (X5)</td>\n",
       "      <td>34.760</td>\n",
       "      <td>3</td>\n",
       "    </tr>\n",
       "    <tr>\n",
       "      <th>2</th>\n",
       "      <td>Dixy</td>\n",
       "      <td>16.615</td>\n",
       "      <td>3</td>\n",
       "    </tr>\n",
       "    <tr>\n",
       "      <th>7</th>\n",
       "      <td>Lenta</td>\n",
       "      <td>16.320</td>\n",
       "      <td>3</td>\n",
       "    </tr>\n",
       "    <tr>\n",
       "      <th>13</th>\n",
       "      <td>Okey Group</td>\n",
       "      <td>15.750</td>\n",
       "      <td>3</td>\n",
       "    </tr>\n",
       "    <tr>\n",
       "      <th>11</th>\n",
       "      <td>Metro</td>\n",
       "      <td>14.445</td>\n",
       "      <td>4</td>\n",
       "    </tr>\n",
       "    <tr>\n",
       "      <th>6</th>\n",
       "      <td>Kirovsky</td>\n",
       "      <td>8.890</td>\n",
       "      <td>4</td>\n",
       "    </tr>\n",
       "    <tr>\n",
       "      <th>3</th>\n",
       "      <td>Fresh Market</td>\n",
       "      <td>7.380</td>\n",
       "      <td>4</td>\n",
       "    </tr>\n",
       "    <tr>\n",
       "      <th>16</th>\n",
       "      <td>Verny (Direct)</td>\n",
       "      <td>6.450</td>\n",
       "      <td>4</td>\n",
       "    </tr>\n",
       "    <tr>\n",
       "      <th>9</th>\n",
       "      <td>Magnoliya</td>\n",
       "      <td>6.170</td>\n",
       "      <td>4</td>\n",
       "    </tr>\n",
       "    <tr>\n",
       "      <th>5</th>\n",
       "      <td>Karusel (X5)</td>\n",
       "      <td>6.090</td>\n",
       "      <td>4</td>\n",
       "    </tr>\n",
       "    <tr>\n",
       "      <th>10</th>\n",
       "      <td>Maksi</td>\n",
       "      <td>3.220</td>\n",
       "      <td>4</td>\n",
       "    </tr>\n",
       "    <tr>\n",
       "      <th>4</th>\n",
       "      <td>Hyperglobus</td>\n",
       "      <td>2.460</td>\n",
       "      <td>4</td>\n",
       "    </tr>\n",
       "    <tr>\n",
       "      <th>18</th>\n",
       "      <td>Zelgross</td>\n",
       "      <td>1.340</td>\n",
       "      <td>4</td>\n",
       "    </tr>\n",
       "    <tr>\n",
       "      <th>17</th>\n",
       "      <td>Victoria</td>\n",
       "      <td>0.180</td>\n",
       "      <td>4</td>\n",
       "    </tr>\n",
       "  </tbody>\n",
       "</table>\n",
       "</div>"
      ],
      "text/plain": [
       "        Plan Accounts  cs_per_day  client_caths\n",
       "12       Monetka Ural     240.000             1\n",
       "0   5Pyaterochka (X5)     200.990             1\n",
       "15        Red & White     158.800             2\n",
       "8              Magnit      54.000             2\n",
       "1        Auchan Group      40.460             2\n",
       "14   Perekrestok (X5)      34.760             3\n",
       "2                Dixy      16.615             3\n",
       "7               Lenta      16.320             3\n",
       "13         Okey Group      15.750             3\n",
       "11              Metro      14.445             4\n",
       "6            Kirovsky       8.890             4\n",
       "3        Fresh Market       7.380             4\n",
       "16     Verny (Direct)       6.450             4\n",
       "9           Magnoliya       6.170             4\n",
       "5        Karusel (X5)       6.090             4\n",
       "10              Maksi       3.220             4\n",
       "4         Hyperglobus       2.460             4\n",
       "18           Zelgross       1.340             4\n",
       "17           Victoria       0.180             4"
      ]
     },
     "metadata": {},
     "output_type": "display_data"
    }
   ],
   "source": [
    "#группа клиентов\n",
    "client_groups=df.groupby('Plan Accounts', as_index=False).agg({'cs_per_day':'median'})\n",
    "client_groups['client_caths']=pd.qcut(client_groups['cs_per_day'], q=[0, .5, .75, .90, 1], \n",
    "                               labels=['4', '3', '2', '1'])\n",
    "client_groups['client_caths']=client_groups['client_caths'].astype('int8')\n",
    "display(client_groups.sort_values('cs_per_day', ascending=False))\n",
    "        \n",
    "client_groups=client_groups[['Plan Accounts', 'client_caths']]\n",
    "df=df.merge(client_groups, on='Plan Accounts', how='left')"
   ]
  },
  {
   "cell_type": "markdown",
   "id": "b68432c4",
   "metadata": {},
   "source": [
    "- укрупнение групп периодов (на периода с высоким и низким спросом) не сработало, качество моделей падает."
   ]
  },
  {
   "cell_type": "code",
   "execution_count": 13,
   "id": "0f5464f2",
   "metadata": {
    "scrolled": true
   },
   "outputs": [],
   "source": [
    "df['cs_per_day']=round(df['cs_per_day'],0)\n",
    "df['discount_cathegory']=round(df['discount_cathegory'],0)\n",
    "\n",
    "X=df[['discount_cathegory', 'duration_weeks', 'client_caths']] \n",
    "y=df['cs_per_day']\n",
    "\n",
    "X_train, X_test, y_train, y_test = train_test_split(X, y, test_size=0.2, random_state=0)"
   ]
  },
  {
   "cell_type": "code",
   "execution_count": 14,
   "id": "ab19235b",
   "metadata": {},
   "outputs": [],
   "source": [
    "# фунуция для вывода метрик\n",
    "\n",
    "def metrics(y_pred):\n",
    "    print('MAE: {:.2f}'.format(mean_absolute_error(y_test, y_pred)))\n",
    "    print('MSE: {:.2f}'.format(mean_squared_error(y_test, y_pred)))\n",
    "    print('R2: {:.2f}'.format(r2_score(y_test, y_pred)))"
   ]
  },
  {
   "cell_type": "markdown",
   "id": "0c7e0b21",
   "metadata": {},
   "source": [
    "#### DecisionTree <a class=\"anchor\" id=\"2\"></a>"
   ]
  },
  {
   "cell_type": "code",
   "execution_count": 15,
   "id": "acaf48fe",
   "metadata": {},
   "outputs": [
    {
     "name": "stdout",
     "output_type": "stream",
     "text": [
      "MAE: 24.82\n",
      "MSE: 2551.18\n",
      "R2: 0.78\n"
     ]
    }
   ],
   "source": [
    "model_1 =  DecisionTreeRegressor(max_depth=3)\n",
    "model_1.fit(X_train, y_train)\n",
    "y_pred_tree = model_1.predict(X_test)\n",
    "\n",
    "metrics(y_pred_tree) "
   ]
  },
  {
   "cell_type": "markdown",
   "id": "322e70ab",
   "metadata": {},
   "source": [
    "#### KNeighbors <a class=\"anchor\" id=\"3\"></a>"
   ]
  },
  {
   "cell_type": "code",
   "execution_count": 16,
   "id": "102dd989",
   "metadata": {},
   "outputs": [
    {
     "name": "stdout",
     "output_type": "stream",
     "text": [
      "MAE: 17.65\n",
      "MSE: 1261.59\n",
      "R2: 0.89\n"
     ]
    }
   ],
   "source": [
    "model_2=KNeighborsRegressor(n_neighbors=3, p=1) \n",
    "model_2.fit(X_train, y_train)\n",
    "y_pred_khn=model_2.predict(X_test)\n",
    "\n",
    "metrics(y_pred_khn)"
   ]
  },
  {
   "cell_type": "markdown",
   "id": "9a573705",
   "metadata": {},
   "source": [
    "#### RandomForest <a class=\"anchor\" id=\"4\"></a>"
   ]
  },
  {
   "cell_type": "code",
   "execution_count": 17,
   "id": "b4d39db9",
   "metadata": {
    "scrolled": true
   },
   "outputs": [
    {
     "name": "stdout",
     "output_type": "stream",
     "text": [
      "MAE: 18.42\n",
      "MSE: 1672.56\n",
      "R2: 0.86\n"
     ]
    }
   ],
   "source": [
    "model_3 =  RandomForestRegressor(n_estimators=5,\n",
    "                                 oob_score=False, \n",
    "                                 random_state=1)\n",
    "model_3.fit(X_train, y_train)\n",
    "y_pred_rand = model_3.predict(X_test)\n",
    "\n",
    "metrics(y_pred_rand)"
   ]
  },
  {
   "cell_type": "markdown",
   "id": "68002ffa",
   "metadata": {},
   "source": [
    "#### GradientBoosting <a class=\"anchor\" id=\"5\"></a>"
   ]
  },
  {
   "cell_type": "code",
   "execution_count": 18,
   "id": "876ea007",
   "metadata": {},
   "outputs": [
    {
     "name": "stdout",
     "output_type": "stream",
     "text": [
      "MAE: 17.69\n",
      "MSE: 1382.77\n",
      "R2: 0.88\n"
     ]
    }
   ],
   "source": [
    "model_4 =  GradientBoostingRegressor(n_estimators=5000, random_state=0)\n",
    "model_4.fit(X_train, y_train)\n",
    "y_pred_xb = model_4.predict(X_test)\n",
    "\n",
    "metrics(y_pred_xb)"
   ]
  },
  {
   "cell_type": "markdown",
   "id": "119f7d92",
   "metadata": {},
   "source": [
    "#### линейная регрессия <a class=\"anchor\" id=\"5.5\"></a>"
   ]
  },
  {
   "cell_type": "code",
   "execution_count": 19,
   "id": "dd4f929d",
   "metadata": {},
   "outputs": [
    {
     "name": "stdout",
     "output_type": "stream",
     "text": [
      "              feature      coeff\n",
      "0  discount_cathegory   0.304451\n",
      "1      duration_weeks  -1.022848\n",
      "2        client_caths -64.203579\n",
      "MAE: 48.05\n",
      "MSE: 7564.72\n",
      "R2: 0.35\n"
     ]
    }
   ],
   "source": [
    "model_6 = Ridge() \n",
    "model_6.fit(X_train, y_train)\n",
    "y_pred_ridge = model_6.predict(X_test) \n",
    "\n",
    "features = pd.DataFrame({'feature':X_train.columns, 'coeff':model_6.coef_})\n",
    "print(features.sort_values('coeff', ascending=False))\n",
    "\n",
    "metrics(y_pred_ridge)"
   ]
  },
  {
   "cell_type": "markdown",
   "id": "9139b4a7",
   "metadata": {},
   "source": [
    "#### Прогнозные значения по всем моделям <a class=\"anchor\" id=\"6\"></a>"
   ]
  },
  {
   "cell_type": "markdown",
   "id": "c27ca9b2",
   "metadata": {},
   "source": [
    "чтобы вывести объем при заданных параметрах введи их ниже"
   ]
  },
  {
   "cell_type": "code",
   "execution_count": 20,
   "id": "04c17e37",
   "metadata": {
    "scrolled": false
   },
   "outputs": [
    {
     "name": "stdout",
     "output_type": "stream",
     "text": [
      "прогнозные значения при скидке 15%, продолжительноси промо 3 недель, для канала 1\n",
      "----------------------------------------------------------------------------------- \n",
      "DecisionTree = 526.7272727272727\n",
      "KNeighbors = 81.0\n",
      "RandomForest = 553.4109523809524\n",
      "XGBoost = 717.0205125614749\n",
      "Ridge = 179.63923186144007\n"
     ]
    }
   ],
   "source": [
    "discount=15\n",
    "duration=3\n",
    "client_cathegory=1\n",
    "\n",
    "x_pred=pd.DataFrame([[discount, duration, client_cathegory]],\n",
    "              columns=['discount_cathegory', 'duration_weeks', 'client_caths']) \n",
    "\n",
    "print(f'прогнозные значения при скидке {discount}%, продолжительноси промо {duration} недель, для канала {1}')\n",
    "print('----------------------------------------------------------------------------------- ')\n",
    "\n",
    "y_pred = model_1.predict(x_pred)\n",
    "print(f'DecisionTree = {y_pred[0]}')\n",
    "y_pred = model_2.predict(x_pred)\n",
    "print(f'KNeighbors = {y_pred[0]}')\n",
    "y_pred = model_3.predict(x_pred)\n",
    "print(f'RandomForest = {y_pred[0]}')\n",
    "y_pred = model_4.predict(x_pred)\n",
    "print(f'XGBoost = {y_pred[0]}')\n",
    "y_pred = model_6.predict(x_pred)\n",
    "print(f'Ridge = {y_pred[0]}')"
   ]
  },
  {
   "cell_type": "markdown",
   "id": "3b3e38c9",
   "metadata": {},
   "source": [
    "#### Heatmaps <a class=\"anchor\" id=\"7\"></a>"
   ]
  },
  {
   "cell_type": "markdown",
   "id": "90b75ae8",
   "metadata": {},
   "source": [
    "создадим тепловую карту со всеми возможными комбинациями скидки и продолжительности при фиксированном периоде и канале.\n",
    "\n",
    "для тепловой карты сгенерим датафрейм, где период и клиент будут заданы, а объем будет высчитываться от изменений скидки и длительности"
   ]
  },
  {
   "cell_type": "code",
   "execution_count": 21,
   "id": "bce9faec",
   "metadata": {},
   "outputs": [],
   "source": [
    "client_cathegory=3"
   ]
  },
  {
   "cell_type": "code",
   "execution_count": 22,
   "id": "6c77e444",
   "metadata": {},
   "outputs": [],
   "source": [
    "'''\n",
    "генерим dataframe с помощью модели с наибольшим r2\n",
    "''' \n",
    "x1=r2_score(y_test, y_pred_tree)\n",
    "x2=r2_score(y_test, y_pred_khn)\n",
    "x3=r2_score(y_test, y_pred_rand)\n",
    "x4=r2_score(y_test, y_pred_xb)\n",
    "x6=r2_score(y_test, y_pred_ridge)\n",
    "\n",
    "models={x1:model_1, x2:model_2, x3:model_3, x4:model_4, x6:model_6} \n",
    "\n",
    "rows_list = []\n",
    "dict1 = {}\n",
    "\n",
    "for discount in range(0, (df.loc[df['client_caths']==client_cathegory, 'discount_cathegory']).max()+5, 5): \n",
    "    for duration in range(1, (df.loc[df['client_caths']==client_cathegory,'duration_weeks']).max()+1): \n",
    "        x_pred=pd.DataFrame([[discount, duration, client_cathegory]], \n",
    "                      columns=['discount_cathegory', 'duration_weeks', 'client_caths'])\n",
    "        y_pred = models.get(max(models.keys())).predict(x_pred)\n",
    "\n",
    "        rows_list.append([discount, duration, y_pred[0], y_pred[0]*duration*7]) \n",
    "        \n",
    "data = pd.DataFrame(rows_list, columns=['discount_cathegory', 'duration_weeks', \n",
    "                                        'predict_cs_per_day', 'predict_total_cs_per_duration']) "
   ]
  },
  {
   "cell_type": "code",
   "execution_count": 23,
   "id": "ba9e1c71",
   "metadata": {
    "scrolled": false
   },
   "outputs": [
    {
     "data": {
      "image/png": "[encoded data removed]",
      "text/plain": [
       "<Figure size 792x432 with 2 Axes>"
      ]
     },
     "metadata": {
      "needs_background": "light"
     },
     "output_type": "display_data"
    },
    {
     "data": {
      "image/png": "[encoded data removed]",
      "text/plain": [
       "<Figure size 792x432 with 2 Axes>"
      ]
     },
     "metadata": {
      "needs_background": "light"
     },
     "output_type": "display_data"
    },
    {
     "data": {
      "image/png": "[encoded data removed]",
      "text/plain": [
       "<Figure size 792x432 with 2 Axes>"
      ]
     },
     "metadata": {
      "needs_background": "light"
     },
     "output_type": "display_data"
    }
   ],
   "source": [
    "heatmap_df1=data.pivot_table(index='duration_weeks', \n",
    "                            columns='discount_cathegory', \n",
    "                            values='predict_total_cs_per_duration')\n",
    "heatmap_df2=data.pivot_table(index='duration_weeks', \n",
    "                            columns='discount_cathegory', \n",
    "                            values='predict_cs_per_day')\n",
    "\n",
    "plt.figure(figsize=(11, 6))\n",
    "sns.heatmap(data=heatmap_df1, cmap=\"YlGnBu\", annot=True, fmt=\".0f\")\n",
    "plt.title(label=f'Прогнозный суммарный объем продаж {bf}, для категории клиентов {client_cathegory}')\n",
    "None\n",
    "\n",
    "plt.figure(figsize=(11, 6))\n",
    "sns.heatmap(data=heatmap_df2, cmap=\"YlGnBu\", annot=True, fmt=\".0f\")\n",
    "plt.title(label=f'Прогнозный объем продаж {bf} в день, для категории клиентов {client_cathegory}')\n",
    "None\n",
    "\n",
    "df1=df[(df['client_caths']==client_cathegory)]\n",
    "df1=df1.pivot_table(index='duration_weeks', \n",
    "                    columns='discount_cathegory', \n",
    "                    values='cs_per_day', \n",
    "                    aggfunc='median')\n",
    "plt.figure(figsize=(11, 6))\n",
    "sns.heatmap(data=df1, cmap=\"YlGnBu\", annot=True, fmt=\".0f\")\n",
    "plt.title(label=f'Фактический объем продаж {bf} в день, для категории клиентов {client_cathegory}')\n",
    "None"
   ]
  },
  {
   "cell_type": "code",
   "execution_count": null,
   "id": "0a22fd38",
   "metadata": {},
   "outputs": [],
   "source": []
  }
 ],
 "metadata": {
  "kernelspec": {
   "display_name": "Python 3",
   "language": "python",
   "name": "python3"
  },
  "language_info": {
   "codemirror_mode": {
    "name": "ipython",
    "version": 3
   },
   "file_extension": ".py",
   "mimetype": "text/x-python",
   "name": "python",
   "nbconvert_exporter": "python",
   "pygments_lexer": "ipython3",
   "version": "3.8.8"
  }
 },
 "nbformat": 4,
 "nbformat_minor": 5
}
